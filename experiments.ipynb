{
 "cells": [
  {
   "cell_type": "code",
   "execution_count": 1,
   "metadata": {},
   "outputs": [],
   "source": [
    "import pandas as pd\n",
    "import numpy as np\n",
    "\n",
    "from sklearn.linear_model import LogisticRegression\n",
    "from sklearn.neighbors import KNeighborsClassifier\n",
    "from sklearn.svm import LinearSVC\n",
    "from sklearn.tree import DecisionTreeClassifier\n",
    "from sklearn.neural_network import MLPClassifier\n",
    "from sklearn.svm import SVC\n",
    "\n",
    "from sklearn.metrics import recall_score\n",
    "from sklearn.metrics import precision_score\n",
    "from sklearn.metrics import accuracy_score\n",
    "from sklearn.preprocessing import MinMaxScaler"
   ]
  },
  {
   "cell_type": "code",
   "execution_count": 2,
   "metadata": {},
   "outputs": [],
   "source": [
    "path = 'CORD19_GraphOfDocs/datasets'\n",
    "datasets = [\n",
    "    [f'{path}/dataset1/fully_balanced/train_balanced_668.csv', f'{path}/dataset1/fully_balanced/test_balanced_840.csv'],\n",
    "    [f'{path}/dataset2/fully_balanced/train_balanced_858.csv', f'{path}/dataset2/fully_balanced/test_balanced_1566.csv'],\n",
    "    [f'{path}/dataset3/fully_balanced/train_balanced_1726.csv', f'{path}/dataset3/fully_balanced/test_balanced_2636.csv'],\n",
    "    [f'{path}/dataset4/fully_balanced/train_balanced_3346.csv', f'{path}/dataset4/fully_balanced/test_balanced_7798.csv'],\n",
    "    [f'{path}/dataset5/fully_balanced/train_balanced_5042.csv', f'{path}/dataset5/fully_balanced/test_balanced_12976.csv'],\n",
    "    [f'{path}/dataset6/fully_balanced/train_balanced_5296.csv', f'{path}/dataset6/fully_balanced/test_balanced_16276.csv'],\n",
    "    [f'{path}/dataset7/fully_balanced/train_balanced_6210.csv', f'{path}/dataset7/fully_balanced/test_balanced_25900.csv'],\n",
    "    [f'{path}/dataset8/fully_balanced/train_balanced_8578.csv', f'{path}/dataset8/fully_balanced/test_balanced_34586.csv'],\n",
    "    [f'{path}/dataset9/fully_balanced/train_balanced_13034.csv', f'{path}/dataset9/fully_balanced/test_balanced_49236.csv']\n",
    "]\n",
    "\n",
    "features_combinations = [\n",
    "    ['adamic_adar', 'common_neighbors', 'preferential_attachment', 'total_neighbors'],\n",
    "    ['adamic_adar', 'common_neighbors', 'preferential_attachment', 'total_neighbors', 'similarity'],\n",
    "    ['adamic_adar', 'similarity'],\n",
    "    ['adamic_adar'],\n",
    "]"
   ]
  },
  {
   "cell_type": "code",
   "execution_count": 3,
   "metadata": {},
   "outputs": [],
   "source": [
    "def neural_network():\n",
    "    return MLPClassifier(solver='adam', hidden_layer_sizes=(100, 50), random_state=0)\n",
    "\n",
    "def logistic_regression():\n",
    "    return LogisticRegression(random_state=0, solver='lbfgs', multi_class='ovr')\n",
    "\n",
    "def knn(n_neighbors):\n",
    "    return KNeighborsClassifier(n_neighbors=n_neighbors, weights='uniform')\n",
    "\n",
    "def knn_5():\n",
    "    return knn(5)\n",
    "\n",
    "def knn_10():\n",
    "    return knn(10)\n",
    "\n",
    "def knn_20():\n",
    "    return knn(20)\n",
    "\n",
    "def knn_30():\n",
    "    return knn(30)\n",
    "\n",
    "def knn_40():\n",
    "    return knn(40)\n",
    "\n",
    "def knn_50():\n",
    "    return knn(50)\n",
    "\n",
    "def knn_60():\n",
    "    return knn(60)\n",
    "\n",
    "def knn_70():\n",
    "    return knn(70)\n",
    "\n",
    "def knn_100():\n",
    "    return knn(100)\n",
    "\n",
    "def knn_1():\n",
    "    return knn(1)\n",
    "\n",
    "def linear_svm():\n",
    "    return LinearSVC()\n",
    "\n",
    "def svm():\n",
    "    return SVC()\n",
    "\n",
    "def decision_tree():\n",
    "    return DecisionTreeClassifier(max_depth=5, random_state=0)\n",
    "\n",
    "def get_normalizer():\n",
    "    return MinMaxScaler()\n",
    "\n",
    "def calculate_scores(classifier, selected_features, train_df, test_df):\n",
    "    normalizer = get_normalizer()\n",
    "    normalizer.fit(train_df[selected_features])\n",
    "    train_data = normalizer.transform(train_df[selected_features])\n",
    "    test_data = normalizer.transform(test_df[selected_features])\n",
    "    classifier.fit(train_data, train_df['label'])\n",
    "    predictions = classifier.predict(test_data)\n",
    "    res = [\n",
    "        accuracy_score(test_df['label'], predictions),\n",
    "        precision_score(test_df['label'], predictions),\n",
    "        recall_score(test_df['label'], predictions)\n",
    "    ]\n",
    "    return res\n",
    "\n",
    "def evaluate_dataset(train_path, test_path, classifier):\n",
    "    train_df = pd.read_csv(train_path)\n",
    "    test_df = pd.read_csv(test_path)\n",
    "    scores = []\n",
    "    accuracy_scores = []\n",
    "    for index, feature_columns in enumerate(features_combinations, 1):\n",
    "        tmp = calculate_scores(classifier(), feature_columns, train_df, test_df)\n",
    "        accuracy_value = tmp[0]\n",
    "        accuracy_scores.append(accuracy_value)\n",
    "        #print('accuracy %s %s' % (accuracy_value, feature_columns))\n",
    "        scores.append([feature_columns, *tmp])\n",
    "    global clf_accuracy_scores\n",
    "    clf_accuracy_scores.append(accuracy_scores)\n",
    "\n",
    "    return scores\n",
    "\n",
    "def evaluate_datasets(classifier_fun):\n",
    "    print(classifier_fun)\n",
    "    all_scores = []\n",
    "    for index, dataset in enumerate(datasets, 1):\n",
    "        #print(f'dataset {index}', '-'*60)\n",
    "        all_scores.append(evaluate_dataset(dataset[0], dataset[1], classifier_fun))\n",
    "    return generate_statistics(all_scores)\n",
    "\n",
    "def print_scores(scores):\n",
    "    scores = sorted(scores, key=lambda x: x[1], reverse=True)\n",
    "\n",
    "    for features, accuracy, precision, recall,  in scores:\n",
    "        print(features)\n",
    "        print('A:', accuracy, 'P:', precision, 'R:', recall, '\\n')\n",
    "        \n",
    "def print_statistics(statistics, score):\n",
    "    print(score, '-'*10)\n",
    "    statistics = sorted(statistics[score], key=lambda x: x[1], reverse=True)\n",
    "    for row in statistics:\n",
    "        print(f'{row[0]}|AVG:{row[1]:.3f}|MIN:{row[3]:.3f}|MAX:{row[2]:.3f}|STD:{row[4]:.3f}')\n",
    "\n",
    "def generate_statistics(all_scores):\n",
    "    # all_scores dimensions: dataset, feature combination, evaluation score:(1: accuracy, 2: precision, 3:recall)\n",
    "    number_of_datasets = len(datasets)\n",
    "    number_of_features_combinations = len(features_combinations)\n",
    "    \n",
    "    accuracy_scores_per_features_combination = []\n",
    "    for i in range(number_of_features_combinations):\n",
    "        accuracies = []\n",
    "        for j in range(number_of_datasets):\n",
    "            accuracies.append(all_scores[j][i][1])\n",
    "        accuracies = np.array(accuracies)\n",
    "        accuracy_std = np.std(accuracies)\n",
    "        accuracy_max = np.max(accuracies)\n",
    "        accuracy_min = np.min(accuracies)\n",
    "        accuracy_average = np.mean(accuracies)\n",
    "        identifier = '-'.join(features_combinations[i])\n",
    "        accuracy_scores_per_features_combination.append([\n",
    "            identifier,\n",
    "            accuracy_average,\n",
    "            accuracy_max,\n",
    "            accuracy_min,\n",
    "            accuracy_std\n",
    "        ])\n",
    "\n",
    "    precision_scores_per_features_combination = []\n",
    "    for i in range(number_of_features_combinations):\n",
    "        precisions = []\n",
    "        for j in range(number_of_datasets):\n",
    "            precisions.append(all_scores[j][i][2])\n",
    "        precisions = np.array(precisions)\n",
    "        precision_std = np.std(precisions)\n",
    "        precision_max = np.max(precisions)\n",
    "        precision_min = np.min(precisions)\n",
    "        precision_average = np.mean(precisions)\n",
    "        identifier = '-'.join(features_combinations[i])\n",
    "        precision_scores_per_features_combination.append([\n",
    "            identifier,\n",
    "            precision_average,\n",
    "            precision_max,\n",
    "            precision_min,\n",
    "            precision_std\n",
    "        ])\n",
    "    \n",
    "    recall_scores_per_features_combination = []\n",
    "    for i in range(number_of_features_combinations):\n",
    "        recalls = []\n",
    "        for j in range(number_of_datasets):\n",
    "            recalls.append(all_scores[j][i][3])\n",
    "        recalls = np.array(recalls)\n",
    "        recall_std = np.std(recalls)\n",
    "        recall_max = np.max(recalls)\n",
    "        recall_min = np.min(recalls)\n",
    "        recall_average = np.mean(recalls)\n",
    "        identifier = '-'.join(features_combinations[i])\n",
    "        recall_scores_per_features_combination.append([\n",
    "            identifier,\n",
    "            recall_average,\n",
    "            recall_max,\n",
    "            recall_min,\n",
    "            recall_std\n",
    "        ])\n",
    "    \n",
    "    return {\n",
    "        'accuracy': accuracy_scores_per_features_combination,\n",
    "        'precision': precision_scores_per_features_combination,\n",
    "        'recall': recall_scores_per_features_combination\n",
    "    }"
   ]
  },
  {
   "cell_type": "code",
   "execution_count": 4,
   "metadata": {},
   "outputs": [
    {
     "name": "stdout",
     "output_type": "stream",
     "text": [
      "<function logistic_regression at 0x7fbfabd39d90>\n",
      "accuracy ----------\n",
      "adamic_adar-similarity|AVG:0.973|MIN:0.964|MAX:0.981|STD:0.005\n",
      "adamic_adar|AVG:0.971|MIN:0.964|MAX:0.978|STD:0.005\n",
      "adamic_adar-common_neighbors-preferential_attachment-total_neighbors-similarity|AVG:0.959|MIN:0.942|MAX:0.968|STD:0.007\n",
      "adamic_adar-common_neighbors-preferential_attachment-total_neighbors|AVG:0.955|MIN:0.938|MAX:0.965|STD:0.007\n",
      "##########\n",
      "precision ----------\n",
      "adamic_adar-similarity|AVG:0.977|MIN:0.962|MAX:0.991|STD:0.011\n",
      "adamic_adar|AVG:0.968|MIN:0.945|MAX:0.985|STD:0.014\n",
      "adamic_adar-common_neighbors-preferential_attachment-total_neighbors-similarity|AVG:0.961|MIN:0.909|MAX:0.984|STD:0.023\n",
      "adamic_adar-common_neighbors-preferential_attachment-total_neighbors|AVG:0.955|MIN:0.907|MAX:0.981|STD:0.022\n",
      "##########\n",
      "recall ----------\n",
      "adamic_adar|AVG:0.974|MIN:0.964|MAX:0.986|STD:0.008\n",
      "adamic_adar-similarity|AVG:0.969|MIN:0.955|MAX:0.981|STD:0.007\n",
      "adamic_adar-common_neighbors-preferential_attachment-total_neighbors-similarity|AVG:0.957|MIN:0.940|MAX:0.982|STD:0.013\n",
      "adamic_adar-common_neighbors-preferential_attachment-total_neighbors|AVG:0.955|MIN:0.933|MAX:0.976|STD:0.013\n",
      "##########\n"
     ]
    }
   ],
   "source": [
    "clf_accuracy_scores = []\n",
    "statistics = evaluate_datasets(logistic_regression)\n",
    "\n",
    "print_statistics(statistics, 'accuracy')\n",
    "print('#'*10)\n",
    "print_statistics(statistics, 'precision')\n",
    "print('#'*10)\n",
    "print_statistics(statistics, 'recall')\n",
    "print('#'*10)"
   ]
  },
  {
   "cell_type": "code",
   "execution_count": 5,
   "metadata": {},
   "outputs": [],
   "source": [
    "tmp_df = pd.DataFrame(clf_accuracy_scores, columns=['logistic_comb_1', 'logistic_comb_2', 'logistic_comb_3', 'logistic_comb_4'])"
   ]
  },
  {
   "cell_type": "code",
   "execution_count": 6,
   "metadata": {},
   "outputs": [],
   "source": [
    "df_accuracy_scores = tmp_df"
   ]
  },
  {
   "cell_type": "code",
   "execution_count": 7,
   "metadata": {},
   "outputs": [
    {
     "name": "stdout",
     "output_type": "stream",
     "text": [
      "<function knn_50 at 0x7fbfabd39b70>\n",
      "accuracy ----------\n",
      "adamic_adar-similarity|AVG:0.967|MIN:0.948|MAX:0.979|STD:0.010\n",
      "adamic_adar-common_neighbors-preferential_attachment-total_neighbors-similarity|AVG:0.959|MIN:0.925|MAX:0.976|STD:0.015\n",
      "adamic_adar|AVG:0.957|MIN:0.941|MAX:0.969|STD:0.010\n",
      "adamic_adar-common_neighbors-preferential_attachment-total_neighbors|AVG:0.956|MIN:0.925|MAX:0.975|STD:0.014\n",
      "##########\n",
      "precision ----------\n",
      "adamic_adar-similarity|AVG:0.944|MIN:0.908|MAX:0.969|STD:0.018\n",
      "adamic_adar-common_neighbors-preferential_attachment-total_neighbors-similarity|AVG:0.933|MIN:0.872|MAX:0.966|STD:0.026\n",
      "adamic_adar-common_neighbors-preferential_attachment-total_neighbors|AVG:0.928|MIN:0.872|MAX:0.965|STD:0.025\n",
      "adamic_adar|AVG:0.927|MIN:0.895|MAX:0.947|STD:0.019\n",
      "##########\n",
      "recall ----------\n",
      "adamic_adar-similarity|AVG:0.993|MIN:0.990|MAX:0.996|STD:0.002\n",
      "adamic_adar|AVG:0.992|MIN:0.987|MAX:0.999|STD:0.004\n",
      "adamic_adar-common_neighbors-preferential_attachment-total_neighbors-similarity|AVG:0.989|MIN:0.982|MAX:0.996|STD:0.004\n",
      "adamic_adar-common_neighbors-preferential_attachment-total_neighbors|AVG:0.988|MIN:0.982|MAX:0.997|STD:0.005\n",
      "##########\n"
     ]
    }
   ],
   "source": [
    "clf_accuracy_scores = []\n",
    "statistics = evaluate_datasets(knn_50)\n",
    "\n",
    "print_statistics(statistics, 'accuracy')\n",
    "print('#'*10)\n",
    "print_statistics(statistics, 'precision')\n",
    "print('#'*10)\n",
    "print_statistics(statistics, 'recall')\n",
    "print('#'*10)"
   ]
  },
  {
   "cell_type": "code",
   "execution_count": 8,
   "metadata": {},
   "outputs": [],
   "source": [
    "tmp_df = pd.DataFrame(clf_accuracy_scores, columns=['knn_50_comb_1', 'knn_50_comb_2', 'knn_50_comb_3', 'knn_50_comb_4'])\n",
    "df_accuracy_scores = pd.concat([df_accuracy_scores, tmp_df], axis=1)"
   ]
  },
  {
   "cell_type": "code",
   "execution_count": 9,
   "metadata": {},
   "outputs": [
    {
     "name": "stdout",
     "output_type": "stream",
     "text": [
      "<function linear_svm at 0x7fbfabd39400>\n",
      "accuracy ----------\n",
      "adamic_adar-similarity|AVG:0.972|MIN:0.957|MAX:0.981|STD:0.009\n",
      "adamic_adar|AVG:0.968|MIN:0.953|MAX:0.980|STD:0.009\n",
      "adamic_adar-common_neighbors-preferential_attachment-total_neighbors-similarity|AVG:0.963|MIN:0.936|MAX:0.976|STD:0.012\n",
      "adamic_adar-common_neighbors-preferential_attachment-total_neighbors|AVG:0.959|MIN:0.931|MAX:0.971|STD:0.012\n",
      "##########\n",
      "precision ----------\n",
      "adamic_adar-similarity|AVG:0.957|MIN:0.926|MAX:0.977|STD:0.017\n",
      "adamic_adar|AVG:0.952|MIN:0.920|MAX:0.975|STD:0.018\n",
      "adamic_adar-common_neighbors-preferential_attachment-total_neighbors-similarity|AVG:0.946|MIN:0.888|MAX:0.975|STD:0.026\n",
      "adamic_adar-common_neighbors-preferential_attachment-total_neighbors|AVG:0.941|MIN:0.884|MAX:0.972|STD:0.026\n",
      "##########\n",
      "recall ----------\n",
      "adamic_adar-similarity|AVG:0.989|MIN:0.985|MAX:0.994|STD:0.003\n",
      "adamic_adar|AVG:0.987|MIN:0.981|MAX:0.994|STD:0.004\n",
      "adamic_adar-common_neighbors-preferential_attachment-total_neighbors-similarity|AVG:0.983|MIN:0.973|MAX:0.996|STD:0.007\n",
      "adamic_adar-common_neighbors-preferential_attachment-total_neighbors|AVG:0.979|MIN:0.969|MAX:0.993|STD:0.008\n",
      "##########\n"
     ]
    }
   ],
   "source": [
    "clf_accuracy_scores = []\n",
    "statistics = evaluate_datasets(linear_svm)\n",
    "\n",
    "print_statistics(statistics, 'accuracy')\n",
    "print('#'*10)\n",
    "print_statistics(statistics, 'precision')\n",
    "print('#'*10)\n",
    "print_statistics(statistics, 'recall')\n",
    "print('#'*10)"
   ]
  },
  {
   "cell_type": "code",
   "execution_count": 10,
   "metadata": {},
   "outputs": [],
   "source": [
    "tmp_df = pd.DataFrame(clf_accuracy_scores, columns=['linear_svm_comb_1', 'linear_svm_comb_2', 'linear_svm_comb_3', 'linear_svm_comb_4'])\n",
    "df_accuracy_scores = pd.concat([df_accuracy_scores, tmp_df], axis=1)"
   ]
  },
  {
   "cell_type": "code",
   "execution_count": 11,
   "metadata": {},
   "outputs": [
    {
     "name": "stdout",
     "output_type": "stream",
     "text": [
      "<function svm at 0x7fbfabd39510>\n",
      "accuracy ----------\n",
      "adamic_adar-similarity|AVG:0.966|MIN:0.950|MAX:0.979|STD:0.010\n",
      "adamic_adar|AVG:0.961|MIN:0.937|MAX:0.977|STD:0.012\n",
      "adamic_adar-common_neighbors-preferential_attachment-total_neighbors-similarity|AVG:0.953|MIN:0.871|MAX:0.976|STD:0.030\n",
      "adamic_adar-common_neighbors-preferential_attachment-total_neighbors|AVG:0.946|MIN:0.826|MAX:0.974|STD:0.043\n",
      "##########\n",
      "precision ----------\n",
      "adamic_adar-similarity|AVG:0.941|MIN:0.911|MAX:0.969|STD:0.019\n",
      "adamic_adar|AVG:0.935|MIN:0.890|MAX:0.968|STD:0.024\n",
      "adamic_adar-common_neighbors-preferential_attachment-total_neighbors-similarity|AVG:0.923|MIN:0.797|MAX:0.964|STD:0.047\n",
      "adamic_adar-common_neighbors-preferential_attachment-total_neighbors|AVG:0.915|MIN:0.743|MAX:0.965|STD:0.063\n",
      "##########\n",
      "recall ----------\n",
      "adamic_adar-similarity|AVG:0.994|MIN:0.990|MAX:0.996|STD:0.002\n",
      "adamic_adar-common_neighbors-preferential_attachment-total_neighbors-similarity|AVG:0.993|MIN:0.989|MAX:0.996|STD:0.002\n",
      "adamic_adar|AVG:0.992|MIN:0.986|MAX:0.999|STD:0.004\n",
      "adamic_adar-common_neighbors-preferential_attachment-total_neighbors|AVG:0.991|MIN:0.985|MAX:0.997|STD:0.003\n",
      "##########\n"
     ]
    }
   ],
   "source": [
    "clf_accuracy_scores = []\n",
    "statistics = evaluate_datasets(svm)\n",
    "\n",
    "print_statistics(statistics, 'accuracy')\n",
    "print('#'*10)\n",
    "print_statistics(statistics, 'precision')\n",
    "print('#'*10)\n",
    "print_statistics(statistics, 'recall')\n",
    "print('#'*10)"
   ]
  },
  {
   "cell_type": "code",
   "execution_count": 12,
   "metadata": {},
   "outputs": [],
   "source": [
    "tmp_df = pd.DataFrame(clf_accuracy_scores, columns=['svm_comb_1', 'svm_comb_2', 'svm_comb_3', 'svm_comb_4'])\n",
    "df_accuracy_scores = pd.concat([df_accuracy_scores, tmp_df], axis=1)"
   ]
  },
  {
   "cell_type": "code",
   "execution_count": 13,
   "metadata": {},
   "outputs": [
    {
     "name": "stdout",
     "output_type": "stream",
     "text": [
      "<function decision_tree at 0x7fbfabd39488>\n",
      "accuracy ----------\n",
      "adamic_adar-common_neighbors-preferential_attachment-total_neighbors-similarity|AVG:0.933|MIN:0.837|MAX:0.980|STD:0.046\n",
      "adamic_adar-similarity|AVG:0.931|MIN:0.836|MAX:0.972|STD:0.045\n",
      "adamic_adar-common_neighbors-preferential_attachment-total_neighbors|AVG:0.922|MIN:0.826|MAX:0.979|STD:0.057\n",
      "adamic_adar|AVG:0.879|MIN:0.660|MAX:0.955|STD:0.094\n",
      "##########\n",
      "precision ----------\n",
      "adamic_adar-common_neighbors-preferential_attachment-total_neighbors-similarity|AVG:0.891|MIN:0.755|MAX:0.969|STD:0.070\n",
      "adamic_adar-similarity|AVG:0.887|MIN:0.754|MAX:0.955|STD:0.068\n",
      "adamic_adar-common_neighbors-preferential_attachment-total_neighbors|AVG:0.878|MIN:0.742|MAX:0.967|STD:0.084\n",
      "adamic_adar|AVG:0.825|MIN:0.595|MAX:0.922|STD:0.108\n",
      "##########\n",
      "recall ----------\n",
      "adamic_adar-similarity|AVG:0.995|MIN:0.991|MAX:0.999|STD:0.002\n",
      "adamic_adar-common_neighbors-preferential_attachment-total_neighbors-similarity|AVG:0.994|MIN:0.991|MAX:0.999|STD:0.003\n",
      "adamic_adar-common_neighbors-preferential_attachment-total_neighbors|AVG:0.994|MIN:0.989|MAX:1.000|STD:0.004\n",
      "adamic_adar|AVG:0.994|MIN:0.989|MAX:1.000|STD:0.004\n",
      "##########\n"
     ]
    }
   ],
   "source": [
    "clf_accuracy_scores = []\n",
    "statistics = evaluate_datasets(decision_tree)\n",
    "\n",
    "print_statistics(statistics, 'accuracy')\n",
    "print('#'*10)\n",
    "print_statistics(statistics, 'precision')\n",
    "print('#'*10)\n",
    "print_statistics(statistics, 'recall')\n",
    "print('#'*10)"
   ]
  },
  {
   "cell_type": "code",
   "execution_count": 14,
   "metadata": {},
   "outputs": [],
   "source": [
    "tmp_df = pd.DataFrame(clf_accuracy_scores, columns=['dt_comb_1', 'dt_comb_2', 'dt_comb_3', 'dt_comb_4'])\n",
    "df_accuracy_scores = pd.concat([df_accuracy_scores, tmp_df], axis=1)"
   ]
  },
  {
   "cell_type": "code",
   "execution_count": 15,
   "metadata": {},
   "outputs": [
    {
     "name": "stdout",
     "output_type": "stream",
     "text": [
      "<function neural_network at 0x7fbfabd39f28>\n"
     ]
    },
    {
     "name": "stderr",
     "output_type": "stream",
     "text": [
      "/home/nkanak/anaconda3/lib/python3.7/site-packages/sklearn/neural_network/_multilayer_perceptron.py:585: ConvergenceWarning: Stochastic Optimizer: Maximum iterations (200) reached and the optimization hasn't converged yet.\n",
      "  % self.max_iter, ConvergenceWarning)\n",
      "/home/nkanak/anaconda3/lib/python3.7/site-packages/sklearn/neural_network/_multilayer_perceptron.py:585: ConvergenceWarning: Stochastic Optimizer: Maximum iterations (200) reached and the optimization hasn't converged yet.\n",
      "  % self.max_iter, ConvergenceWarning)\n",
      "/home/nkanak/anaconda3/lib/python3.7/site-packages/sklearn/neural_network/_multilayer_perceptron.py:585: ConvergenceWarning: Stochastic Optimizer: Maximum iterations (200) reached and the optimization hasn't converged yet.\n",
      "  % self.max_iter, ConvergenceWarning)\n",
      "/home/nkanak/anaconda3/lib/python3.7/site-packages/sklearn/neural_network/_multilayer_perceptron.py:585: ConvergenceWarning: Stochastic Optimizer: Maximum iterations (200) reached and the optimization hasn't converged yet.\n",
      "  % self.max_iter, ConvergenceWarning)\n",
      "/home/nkanak/anaconda3/lib/python3.7/site-packages/sklearn/neural_network/_multilayer_perceptron.py:585: ConvergenceWarning: Stochastic Optimizer: Maximum iterations (200) reached and the optimization hasn't converged yet.\n",
      "  % self.max_iter, ConvergenceWarning)\n",
      "/home/nkanak/anaconda3/lib/python3.7/site-packages/sklearn/neural_network/_multilayer_perceptron.py:585: ConvergenceWarning: Stochastic Optimizer: Maximum iterations (200) reached and the optimization hasn't converged yet.\n",
      "  % self.max_iter, ConvergenceWarning)\n",
      "/home/nkanak/anaconda3/lib/python3.7/site-packages/sklearn/neural_network/_multilayer_perceptron.py:585: ConvergenceWarning: Stochastic Optimizer: Maximum iterations (200) reached and the optimization hasn't converged yet.\n",
      "  % self.max_iter, ConvergenceWarning)\n",
      "/home/nkanak/anaconda3/lib/python3.7/site-packages/sklearn/neural_network/_multilayer_perceptron.py:585: ConvergenceWarning: Stochastic Optimizer: Maximum iterations (200) reached and the optimization hasn't converged yet.\n",
      "  % self.max_iter, ConvergenceWarning)\n"
     ]
    },
    {
     "name": "stdout",
     "output_type": "stream",
     "text": [
      "accuracy ----------\n",
      "adamic_adar-similarity|AVG:0.965|MIN:0.943|MAX:0.979|STD:0.012\n",
      "adamic_adar|AVG:0.956|MIN:0.899|MAX:0.976|STD:0.024\n",
      "adamic_adar-common_neighbors-preferential_attachment-total_neighbors-similarity|AVG:0.938|MIN:0.807|MAX:0.979|STD:0.054\n",
      "adamic_adar-common_neighbors-preferential_attachment-total_neighbors|AVG:0.928|MIN:0.801|MAX:0.982|STD:0.061\n",
      "##########\n",
      "precision ----------\n",
      "adamic_adar-similarity|AVG:0.941|MIN:0.898|MAX:0.968|STD:0.022\n",
      "adamic_adar|AVG:0.928|MIN:0.834|MAX:0.968|STD:0.041\n",
      "adamic_adar-common_neighbors-preferential_attachment-total_neighbors-similarity|AVG:0.902|MIN:0.721|MAX:0.971|STD:0.078\n",
      "adamic_adar-common_neighbors-preferential_attachment-total_neighbors|AVG:0.888|MIN:0.715|MAX:0.975|STD:0.087\n",
      "##########\n",
      "recall ----------\n",
      "adamic_adar-similarity|AVG:0.994|MIN:0.992|MAX:0.999|STD:0.002\n",
      "adamic_adar-common_neighbors-preferential_attachment-total_neighbors|AVG:0.993|MIN:0.988|MAX:0.999|STD:0.003\n",
      "adamic_adar-common_neighbors-preferential_attachment-total_neighbors-similarity|AVG:0.993|MIN:0.988|MAX:0.999|STD:0.003\n",
      "adamic_adar|AVG:0.991|MIN:0.985|MAX:0.999|STD:0.004\n",
      "##########\n"
     ]
    }
   ],
   "source": [
    "clf_accuracy_scores = []\n",
    "statistics = evaluate_datasets(neural_network)\n",
    "\n",
    "print_statistics(statistics, 'accuracy')\n",
    "print('#'*10)\n",
    "print_statistics(statistics, 'precision')\n",
    "print('#'*10)\n",
    "print_statistics(statistics, 'recall')\n",
    "print('#'*10)"
   ]
  },
  {
   "cell_type": "code",
   "execution_count": 16,
   "metadata": {},
   "outputs": [],
   "source": [
    "tmp_df = pd.DataFrame(clf_accuracy_scores, columns=['nn_comb_1', 'nn_comb_2', 'nn_comb_3', 'nn_comb_4'])\n",
    "df_accuracy_scores = pd.concat([df_accuracy_scores, tmp_df], axis=1)"
   ]
  },
  {
   "cell_type": "code",
   "execution_count": null,
   "metadata": {},
   "outputs": [],
   "source": []
  }
 ],
 "metadata": {
  "kernelspec": {
   "display_name": "Python 3",
   "language": "python",
   "name": "python3"
  },
  "language_info": {
   "codemirror_mode": {
    "name": "ipython",
    "version": 3
   },
   "file_extension": ".py",
   "mimetype": "text/x-python",
   "name": "python",
   "nbconvert_exporter": "python",
   "pygments_lexer": "ipython3",
   "version": "3.7.3"
  }
 },
 "nbformat": 4,
 "nbformat_minor": 2
}
